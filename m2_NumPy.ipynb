{
 "cells": [
  {
   "cell_type": "markdown",
   "id": "8c857f97",
   "metadata": {},
   "source": [
    "**Learning Objectives**\n",
    "* What is NumPy? \n",
    "* Why NumPy?\n",
    "* Importing NumPy\n",
    "# \n",
    "\n",
    "**What is NumPy?**\n",
    "* NumPy stands for Numerical Python\n",
    "* It is an open - source Python library\n",
    "# \n",
    "\n",
    "**Use of NumPy**\n",
    "* It is used for working with numerical data in Python\n",
    "\n",
    "**Why NumPy?**\n",
    "* Makes the numerical computations easier and faster\n",
    "* Consumes less memory\n",
    "# \n",
    "\n",
    "**Import NumPy**\n",
    "* Anytime you want to use a library in Python, your first priority should be to make it accessible.\n",
    "* You can import/load NumPy in your notebook or any other Python IDE in two different ways.\n",
    "   * import numpy or\n",
    "   * from numpy import* or\n",
    "   * import numpy as np\n",
    "* we will be using np shorthand for numpy. It simply serves as an alias and it is easier to use pd instead writing full form ‘pandas’ while coding."
   ]
  }
 ],
 "metadata": {
  "kernelspec": {
   "display_name": "Python 3 (ipykernel)",
   "language": "python",
   "name": "python3"
  },
  "language_info": {
   "codemirror_mode": {
    "name": "ipython",
    "version": 3
   },
   "file_extension": ".py",
   "mimetype": "text/x-python",
   "name": "python",
   "nbconvert_exporter": "python",
   "pygments_lexer": "ipython3",
   "version": "3.9.7"
  }
 },
 "nbformat": 4,
 "nbformat_minor": 5
}
