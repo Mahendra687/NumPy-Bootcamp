{
 "cells": [
  {
   "cell_type": "markdown",
   "id": "17d4c04b",
   "metadata": {},
   "source": [
    "**Learning Objectives**\n",
    "* Vector\n",
    "* Matrix\n",
    "# \n",
    "\n",
    "**Vector**\n",
    "* A vector, in programming, is a type of array that is one dimensional.\n",
    "* One dimensional array is a vector.\n",
    "* For example, [1, 2, 3, 4, 5] is a vector.\n",
    "# \n",
    "\n",
    "**Matrix**\n",
    "* Matrix is an arrangement of numbers into rows and columns\n",
    "* The matrix A has two rows and three columns\n",
    "\n",
    "<img align=\"right\" width=\"300\" height=\"300\" src=\"https://3298224505-files.gitbook.io/~/files/v0/b/gitbook-x-prod.appspot.com/o/spaces%2F8alBXkTdfro3LXuTCav9%2Fuploads%2FMos8620lm95QoI2snsiS%2Fimage.png?alt=media&token=47f88f88-67cb-42e0-b49c-3b55ac1641a3\">"
   ]
  },
  {
   "cell_type": "markdown",
   "id": "07efc8a9",
   "metadata": {},
   "source": [
    "**Shape of Matrix**\n",
    "* Since matrix A has two rows and three columns, we write its shape as 2 X 3, pronounced as 2/3.\n",
    "# \n",
    "\n",
    "**Dimension of Matrix**\n",
    "* The shape of matrix also tells you it’s dimensions. The dimension of matrix A is 2 as its shape is 2 X 3.\n",
    "* If a matrix has its shape as 2 X 3 X 2 (say for example), the dimension of the matrix would be 3.\n",
    "* Don’t worry if you don’t get this point. You will make it as you go along\n",
    "\n",
    "<img align = \"right\" width = \"300\" height = \"300\" src = \"https://3298224505-files.gitbook.io/~/files/v0/b/gitbook-x-prod.appspot.com/o/spaces%2F8alBXkTdfro3LXuTCav9%2Fuploads%2FklwaIMkoeYAPeJFedo5S%2Fimage.png?alt=media&token=aafd7e14-dfb3-422e-9be6-0cb4dd1301b1\" >"
   ]
  },
  {
   "cell_type": "markdown",
   "id": "4e47bb2c",
   "metadata": {},
   "source": [
    "Matrix B has three rows and two columns, so it is a 3 X 2 matrix\n",
    "\n",
    "<img align = \"right\" width = \"300\" height = \"300\" src = \"https://lh4.googleusercontent.com/xvNce0r41735c_MNQZXgSLDFeM2-o-kNa2eKQeXFRCg5UuziZ7f-8ZNw3rYmmL-kuQTQ98I4f53Ba9qd1_pX-JkvFQRsOQBaqpssEJ5RSphnuJuUCVmMKo4fH8-KCO6aCRn2Z4sdycs\" >"
   ]
  }
 ],
 "metadata": {
  "kernelspec": {
   "display_name": "Python 3 (ipykernel)",
   "language": "python",
   "name": "python3"
  },
  "language_info": {
   "codemirror_mode": {
    "name": "ipython",
    "version": 3
   },
   "file_extension": ".py",
   "mimetype": "text/x-python",
   "name": "python",
   "nbconvert_exporter": "python",
   "pygments_lexer": "ipython3",
   "version": "3.9.7"
  }
 },
 "nbformat": 4,
 "nbformat_minor": 5
}
