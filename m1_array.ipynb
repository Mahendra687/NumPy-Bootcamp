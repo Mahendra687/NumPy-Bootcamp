{
 "cells": [
  {
   "cell_type": "markdown",
   "id": "1e03c99f",
   "metadata": {},
   "source": [
    "**Learning Objectives**\n",
    "* Understanding keywords\n",
    "* Arrays\n",
    "* Lists vs Arrays"
   ]
  },
  {
   "cell_type": "markdown",
   "id": "d312783b",
   "metadata": {},
   "source": [
    "**Understanding Keywords**\n",
    "* Before jumping into what arrays are all about, we need to recap what we learnt about Lists   in addition, we need to learn about some keywords such as a “Dimension\"\n",
    "\n",
    "**Dimensions**\n",
    "* Now, what are dimensions? - Let’s take an example of box to explain this. A box has three dimensions width, length and depth (or height). Similarly, in data science we will be working “N” dimensions in a data structure (list, arrays, vectors etc). “N” could be any number.\n",
    "\n",
    "**What are Arrays?**\n",
    "* Similar to a list, an array is also a data structure which can hold more than one value at a time.\n",
    "* However, an array can only hold a collection of **ordered elements** of the same data type.\n",
    "\n",
    "# \n",
    "\n",
    "for example:\n",
    "\n",
    "* [1, 2, 3, 4, 5] is an array of integers\n",
    "* [ ‘a’, ‘b’, ‘c’, ‘d’, ‘e’ ] is an array of strings\n",
    "* [[1,2,3,4],[ 5, 6, 7, 8 ] ] is 2 dimensional array.\n",
    "\n",
    "# \n",
    "Lists:Examples\n",
    "\n",
    "[ 1, 2, 3, ‘a’, 5 ] is a list containing both integers and a string\n",
    "[ 1, 2, 3, 4, ‘b’, [ 1, 2, 3 ] ]\n",
    "# \n",
    "\n",
    "**Why Arrays?**\n",
    "* A combination of Arrays, together with Python could save you a lot of time. Arrays help reduce the overall size of your code.\n",
    "# \n",
    "\n",
    "List vs Array\n",
    "* A list can store any type of values such as integers, strings, etc. Whereas an arrays, stores only single data type values, i.e you can only have an array of integers, an array of strings, etc."
   ]
  }
 ],
 "metadata": {
  "kernelspec": {
   "display_name": "Python 3 (ipykernel)",
   "language": "python",
   "name": "python3"
  },
  "language_info": {
   "codemirror_mode": {
    "name": "ipython",
    "version": 3
   },
   "file_extension": ".py",
   "mimetype": "text/x-python",
   "name": "python",
   "nbconvert_exporter": "python",
   "pygments_lexer": "ipython3",
   "version": "3.9.7"
  }
 },
 "nbformat": 4,
 "nbformat_minor": 5
}
